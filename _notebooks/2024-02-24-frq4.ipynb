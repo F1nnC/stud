{
 "cells": [
  {
   "cell_type": "markdown",
   "metadata": {},
   "source": [
    "---\n",
    "toc: true\n",
    "comments: true\n",
    "layout: posts\n",
    "title: Practice 2015 FRQ Question 4\n",
    "description: Reflection and Solutions of the FRQ\n",
    "type: hacks\n",
    "courses: { csa: {week: 23} }\n",
    "---"
   ]
  },
  {
   "cell_type": "markdown",
   "metadata": {},
   "source": [
    "## Question 4\n",
    "### Part A and B"
   ]
  },
  {
   "cell_type": "code",
   "execution_count": 1,
   "metadata": {
    "vscode": {
     "languageId": "java"
    }
   },
   "outputs": [
    {
     "name": "stdout",
     "output_type": "stream",
     "text": [
      "false\n",
      "true\n",
      "false\n"
     ]
    }
   ],
   "source": [
    "public interface NumberGroup \n",
    "{\n",
    "    public boolean contains(int num);\n",
    "}\n",
    "\n",
    "// Range functionality I got from rachit\n",
    "public class Range implements NumberGroup {\n",
    "    private int min;\n",
    "    private int max;\n",
    "\n",
    "    public Range(int min, int max) {\n",
    "        this.min = min;\n",
    "        this.max = max;\n",
    "    }\n",
    "\n",
    "    @Override\n",
    "    public boolean contains(int num) {\n",
    "        if (num >= min && num <= max) {\n",
    "            return true;\n",
    "        } else {\n",
    "            return false;\n",
    "        }\n",
    "    }\n",
    "}\n",
    "//Proof it works\n",
    "public class Main {\n",
    "    public static void main(String[] args) {\n",
    "        NumberGroup range = new Range(5, 10);\n",
    "\n",
    "        System.out.println(range.contains(2));\n",
    "        System.out.println(range.contains(7));\n",
    "        System.out.println(range.contains(4));\n",
    "        \n",
    "    }\n",
    "}\n",
    "Main.main(null);"
   ]
  },
  {
   "cell_type": "markdown",
   "metadata": {},
   "source": [
    "### Part C"
   ]
  },
  {
   "cell_type": "code",
   "execution_count": 2,
   "metadata": {
    "vscode": {
     "languageId": "java"
    }
   },
   "outputs": [
    {
     "name": "stdout",
     "output_type": "stream",
     "text": [
      "false\n",
      "true\n",
      "false\n",
      "true\n"
     ]
    }
   ],
   "source": [
    "// Proof it works\n",
    "public class groups {\n",
    "   public static void main(String[] args) {\n",
    "      Range range1 = new Range(5, 8);\n",
    "      Range range2 = new Range(10, 12);\n",
    "      Range range3 = new Range(1, 6);\n",
    "\n",
    "      System.out.println(range1.contains(3));  \n",
    "      System.out.println(range2.contains(12));  \n",
    "      System.out.println(range3.contains(7)); \n",
    "      System.out.println(range1.contains(7)); \n",
    "\n",
    "   }\n",
    "}\n",
    "groups.main(null);"
   ]
  },
  {
   "cell_type": "markdown",
   "metadata": {},
   "source": [
    "## Reflection\n",
    "- I had Rachit help me with the Number Group Interfacing but the rest of the code can from me. I know my code doesn't create a list with all the numbers in it. But that isn't really needed in this code, It just need to have a list and see if a number is inside it. So by just comparing the number two the range values you will know. You don't have to iterate through the list to see if the number is inside it. This one was hard to re-create in jupyter notebooks, although the solution part was not hard."
   ]
  }
 ],
 "metadata": {
  "kernelspec": {
   "display_name": "Java",
   "language": "java",
   "name": "java"
  },
  "language_info": {
   "codemirror_mode": "java",
   "file_extension": ".jshell",
   "mimetype": "text/x-java-source",
   "name": "Java",
   "pygments_lexer": "java",
   "version": "20.0.2+9"
  }
 },
 "nbformat": 4,
 "nbformat_minor": 2
}
