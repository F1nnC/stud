{
 "cells": [
  {
   "cell_type": "markdown",
   "metadata": {},
   "source": [
    "---\n",
    "toc: true\n",
    "comments: true\n",
    "layout: posts\n",
    "title: Practice 2015 FRQ Question 2\n",
    "description: Reflection and Solutions of the FRQ\n",
    "categories: [AP]\n",
    "type: hacks\n",
    "courses: { csa: {week: 23} }\n",
    "---"
   ]
  },
  {
   "cell_type": "markdown",
   "metadata": {},
   "source": [
    "## Question 2"
   ]
  },
  {
   "cell_type": "code",
   "execution_count": 1,
   "metadata": {},
   "outputs": [
    {
     "name": "stdout",
     "output_type": "stream",
     "text": [
      "{ **+* }\n",
      "{ F*** }\n"
     ]
    }
   ],
   "source": [
    "public class HiddenWord {\n",
    "    private String hidden; // the hidden word to guess\n",
    "\n",
    "    // constructor to initialize the hidden word\n",
    "    public HiddenWord(String h) {\n",
    "        hidden = h;\n",
    "    }\n",
    "\n",
    "    // method to generate a hint based on the guessed word\n",
    "    public String getHint(String guess) {\n",
    "        String hint = \"{ \"; // start building the hint string\n",
    "\n",
    "        for (int i = 0; i < guess.length(); i++) {\n",
    "            if (guess.charAt(i) == hidden.charAt(i))\n",
    "                hint += \"\" + guess.charAt(i); // append the correct character at the right position\n",
    "            else if (hidden.indexOf(guess.charAt(i)) > -1)\n",
    "                hint += \"+\"; // append a '+' if the guessed character exists in the hidden word but at a different position\n",
    "            else\n",
    "                hint += \"*\"; // append a '*' if the guessed character doesn't exist in the hidden word\n",
    "        }\n",
    "\n",
    "        hint += \" }\"; // close the hint string\n",
    "        return hint; // return the generated hint\n",
    "    }\n",
    "\n",
    "    //Proof it works\n",
    "    public static void main(String[] args) {\n",
    "        HiddenWord word = new HiddenWord(\"Finn\"); \n",
    "        System.out.println(word.getHint(\"swim\")); \n",
    "        System.out.println(word.getHint(\"Fred\")); \n",
    "    }\n",
    "}\n",
    "\n",
    "HiddenWord.main(null);"
   ]
  },
  {
   "cell_type": "markdown",
   "metadata": {},
   "source": [
    "### Reflection\n",
    "- This FRQ was very challenging, I didn't know about the charAt() function. Although the logic was simple enough. I think they got the idea from wordle. My main take away was that I have to learn more about the built in functions inside java."
   ]
  }
 ],
 "metadata": {
  "kernelspec": {
   "display_name": "Java",
   "language": "java",
   "name": "java"
  },
  "language_info": {
   "codemirror_mode": "java",
   "file_extension": ".jshell",
   "mimetype": "text/x-java-source",
   "name": "java",
   "pygments_lexer": "java",
   "version": "20.0.2+9"
  }
 },
 "nbformat": 4,
 "nbformat_minor": 2
}
