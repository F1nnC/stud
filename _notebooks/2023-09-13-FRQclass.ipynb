{
 "cells": [
  {
   "cell_type": "markdown",
   "metadata": {},
   "source": [
    "---\n",
    "layout: default\n",
    "title: FRQ 2 Classes\n",
    "description: information about classes\n",
    "toc: true\n",
    "type: hacks\n",
    "---"
   ]
  },
  {
   "cell_type": "markdown",
   "metadata": {},
   "source": [
    "## Static Classes\n",
    "- Base level\n",
    "- Static means it only belongs to this class"
   ]
  },
  {
   "cell_type": "code",
   "execution_count": 2,
   "metadata": {},
   "outputs": [
    {
     "name": "stdout",
     "output_type": "stream",
     "text": [
      "Hello World!\n"
     ]
    }
   ],
   "source": [
    "// Hello World Using static class\n",
    "public class HelloStatic {\n",
    "    // Java standard runtime entry point\n",
    "    public static void main(String[] args) {\n",
    "        System.out.println(\"Hello World!\");\n",
    "    }\n",
    "}\n",
    "\n",
    "HelloStatic.main(null);"
   ]
  },
  {
   "cell_type": "markdown",
   "metadata": {},
   "source": [
    "## Methods\n",
    "- A method is a operation inside the class that can be called\n",
    "- 2 types of methods no argument constructers, and argument constructer\n",
    "\n",
    "## Setters and Getters\n",
    "\n",
    "### Setters\n",
    "- Inside the constructor public Addition(int A, int B), you are calling the setAdd method to set the initial value of \"result\" based on the values of A and B when an instance of the \"Addition\" class is created with arguments.\n",
    "- Inside the constructor public Addition(), you are calling the setAdd method to set the initial value of \"result\" to the sum of 3 and 5 when an instance of the \"Addition\" class is created without any arguments.\n",
    "\n",
    "### Getters\n",
    "- In this Code the getter is just taking the result varible and returning it\n",
    "- So when the System.out.println() prints out code, it will show the result using the other method"
   ]
  },
  {
   "cell_type": "code",
   "execution_count": 11,
   "metadata": {},
   "outputs": [
    {
     "name": "stdout",
     "output_type": "stream",
     "text": [
      "8\n",
      "15\n"
     ]
    }
   ],
   "source": [
    "// Addition class\n",
    "public class Addition {\n",
    "    // var for result\n",
    "    private int result;\n",
    "    \n",
    "    // static version\n",
    "    public Addition() {\n",
    "        this.setAdd(3, 5); \n",
    "    }\n",
    "\n",
    "    // argument constructor version\n",
    "    public Addition(int A, int B) { \n",
    "        this.setAdd(A, B);\n",
    "    }\n",
    "\n",
    "    // setter\n",
    "    public void setAdd(int A, int B) {\n",
    "        this.result = A + B;\n",
    "    }\n",
    "\n",
    "    public int getAdd() {\n",
    "        return this.result;\n",
    "    }\n",
    "\n",
    "    public static void main(String[] args) {\n",
    "        Addition hd1 = new Addition(); // no-argument constructor\n",
    "        Addition hd2 = new Addition(10, 5); // constructor with arguments\n",
    "        System.out.println(hd1.getAdd());\n",
    "        System.out.println(hd2.getAdd());\n",
    "    }\n",
    "}\n",
    "\n",
    "\n",
    "Addition.main(null);"
   ]
  },
  {
   "cell_type": "markdown",
   "metadata": {},
   "source": [
    "## Example Test Method using Scanner"
   ]
  },
  {
   "cell_type": "code",
   "execution_count": 1,
   "metadata": {},
   "outputs": [
    {
     "name": "stdout",
     "output_type": "stream",
     "text": [
      "Is the sky blue? Y or N\n",
      "Correct\n"
     ]
    }
   ],
   "source": [
    "import java.util.Scanner;\n",
    "\n",
    "public class Test {\n",
    "    // Question Method\n",
    "    public void Question1() {\n",
    "        String A1 = \"Y\"; // Corrected variable declaration\n",
    "        System.out.println(\"Is the sky blue? Y or N\");\n",
    "\n",
    "        // Initialize Scanner Object\n",
    "        Scanner myObj = new Scanner(System.in);\n",
    "\n",
    "        // Setting a variable using Scanner\n",
    "        String response = myObj.nextLine();\n",
    "\n",
    "        // Convert the response to lowercase for comparison\n",
    "        response = response.toLowerCase();\n",
    "\n",
    "        // Logic for the Question\n",
    "        if (response.equals(\"y\")) { // Use .equals() to compare strings\n",
    "            System.out.println(\"Correct\");\n",
    "        } else if (response.equals(\"n\")) { // Use else if for the second condition\n",
    "            System.out.println(\"False\");\n",
    "        } else {\n",
    "            System.out.println(\"Wrong Input\");\n",
    "        }\n",
    "    }\n",
    "\n",
    "    public static void main(String[] args) {\n",
    "        // Create an instance of the Test class\n",
    "        Test test = new Test();\n",
    "        // Call the Question1 method on the instance\n",
    "        test.Question1();\n",
    "    }\n",
    "}\n",
    "\n",
    "\n",
    "Test.main(null);"
   ]
  },
  {
   "cell_type": "markdown",
   "metadata": {},
   "source": [
    "## Hacks\n",
    "- Add more question and improve the test code"
   ]
  }
 ],
 "metadata": {
  "kernelspec": {
   "display_name": "Java",
   "language": "java",
   "name": "java"
  },
  "language_info": {
   "codemirror_mode": "java",
   "file_extension": ".jshell",
   "mimetype": "text/x-java-source",
   "name": "java",
   "pygments_lexer": "java",
   "version": "11.0.20+8-post-Ubuntu-1ubuntu120.04"
  },
  "orig_nbformat": 4
 },
 "nbformat": 4,
 "nbformat_minor": 2
}
