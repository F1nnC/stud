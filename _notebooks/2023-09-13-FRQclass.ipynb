{
 "cells": [
  {
   "cell_type": "markdown",
   "metadata": {},
   "source": [
    "---\n",
    "layout: default\n",
    "title: FRQ 2 Classes\n",
    "description: information about classes\n",
    "toc: true\n",
    "type: hacks\n",
    "courses: { csa: {week: 4} }\n",
    "---"
   ]
  },
  {
   "cell_type": "markdown",
   "metadata": {},
   "source": [
    "## Static Classes\n",
    "- Base level\n",
    "- Static means it only belongs to this class"
   ]
  },
  {
   "cell_type": "code",
   "execution_count": 2,
   "metadata": {
    "vscode": {
     "languageId": "java"
    }
   },
   "outputs": [
    {
     "name": "stdout",
     "output_type": "stream",
     "text": [
      "Hello World!\n"
     ]
    }
   ],
   "source": [
    "// Hello World Using static class\n",
    "public class HelloStatic {\n",
    "    // Java standard runtime entry point\n",
    "    public static void main(String[] args) {\n",
    "        System.out.println(\"Hello World!\");\n",
    "    }\n",
    "}\n",
    "\n",
    "HelloStatic.main(null);"
   ]
  },
  {
   "cell_type": "markdown",
   "metadata": {},
   "source": [
    "## Methods + Scanner\n",
    "- You use the static code to call the object inside the class"
   ]
  },
  {
   "cell_type": "code",
   "execution_count": 8,
   "metadata": {
    "vscode": {
     "languageId": "java"
    }
   },
   "outputs": [
    {
     "name": "stdout",
     "output_type": "stream",
     "text": [
      "Is the sky blue? Y or N\n"
     ]
    },
    {
     "name": "stdout",
     "output_type": "stream",
     "text": [
      "Wrong Input\n"
     ]
    }
   ],
   "source": [
    "import java.util.Scanner;\n",
    "\n",
    "public class Test {\n",
    "    // Question Method\n",
    "    public void Question1() {\n",
    "        String A1 = \"Y\"; // Corrected variable declaration\n",
    "        System.out.println(\"Is the sky blue? Y or N\");\n",
    "\n",
    "        // Initialize Scanner Object\n",
    "        Scanner myObj = new Scanner(System.in);\n",
    "\n",
    "        // Setting a variable using Scanner\n",
    "        String response = myObj.nextLine();\n",
    "\n",
    "        // Convert the response to lowercase for comparison\n",
    "        response = response.toLowerCase();\n",
    "\n",
    "        // Logic for the Question\n",
    "        if (response.equals(\"y\")) { // Use .equals() to compare strings\n",
    "            System.out.println(\"Correct\");\n",
    "        } else if (response.equals(\"n\")) { // Use else if for the second condition\n",
    "            System.out.println(\"False\");\n",
    "        } else {\n",
    "            System.out.println(\"Wrong Input\");\n",
    "        }\n",
    "    }\n",
    "\n",
    "    public static void main(String[] args) {\n",
    "        // Create an instance of the Test class\n",
    "        Test test = new Test();\n",
    "        // Call the Question1 method on the instance\n",
    "        test.Question1();\n",
    "    }\n",
    "}\n",
    "\n",
    "\n",
    "Test.main(null);"
   ]
  },
  {
   "cell_type": "markdown",
   "metadata": {},
   "source": [
    "## Hacks\n",
    "- Add more question and improve the test code"
   ]
  }
 ],
 "metadata": {
  "kernelspec": {
   "display_name": "Java",
   "language": "java",
   "name": "java"
  },
  "language_info": {
   "codemirror_mode": "java",
   "file_extension": ".jshell",
   "mimetype": "text/x-java-source",
   "name": "Java",
   "pygments_lexer": "java",
   "version": "11.0.20+8-post-Ubuntu-1ubuntu120.04"
  },
  "orig_nbformat": 4
 },
 "nbformat": 4,
 "nbformat_minor": 2
}
