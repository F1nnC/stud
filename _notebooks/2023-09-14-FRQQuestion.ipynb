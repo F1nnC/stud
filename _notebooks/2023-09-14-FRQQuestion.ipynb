{
 "cells": [
  {
   "cell_type": "markdown",
   "metadata": {},
   "source": [
    "---\n",
    "layout: posts\n",
    "title: Past FRQ question\n",
    "description: frq 2\n",
    "toc: true\n",
    "type: hacks\n",
    "---"
   ]
  },
  {
   "cell_type": "markdown",
   "metadata": {},
   "source": [
    "## Explaintion\n",
    "\n",
    "## Word Match Class\n",
    "- The Word Match class has a secert string\n",
    "\n",
    "### Methods you have to write\n",
    "- The class with give a score depending on how close the string was with score\n",
    "- Also make a findBetterGuess method would compare the two scores for the two strings inputed"
   ]
  },
  {
   "cell_type": "code",
   "execution_count": 1,
   "metadata": {},
   "outputs": [
    {
     "name": "stdout",
     "output_type": "stream",
     "text": [
      "Better Guess: i\n"
     ]
    }
   ],
   "source": [
    "public class WordMatch {\n",
    "\n",
    "    private String secret = \"mississippi\";\n",
    "\n",
    "    public int scoreGuess(String guess) {\n",
    "        int count = 0;\n",
    "        String temp;\n",
    "        for (int x = 0; x <= secret.length() - guess.length(); x++) { // Use <= instead of < to check all substrings\n",
    "            temp = secret.substring(x, x + guess.length()); // Specify the end index for the substring\n",
    "            if (temp.equalsIgnoreCase(guess)) { // Use equalsIgnoreCase to ignore case\n",
    "                count++;\n",
    "            }\n",
    "        }\n",
    "        int score = count * guess.length() * guess.length();\n",
    "        return score;\n",
    "    }\n",
    "    \n",
    "\n",
    "    public String findBetterGuess(String guess1, String guess2) {\n",
    "        int score1 = scoreGuess(guess1); // Calculate the scores once\n",
    "        int score2 = scoreGuess(guess2);\n",
    "\n",
    "        if (score1 > score2) {\n",
    "            return guess1;\n",
    "        } else if (score2 > score1) { // Changed to else if\n",
    "            return guess2;\n",
    "        } else { // Added an else block\n",
    "            if (guess1.compareTo(guess2) > 0) {\n",
    "                return guess1;\n",
    "            }\n",
    "            return guess2;\n",
    "        }\n",
    "    }\n",
    "\n",
    "    public static void main(String[] args) {\n",
    "        WordMatch wordMatch = new WordMatch();\n",
    "        String betterGuess = wordMatch.findBetterGuess(\"i\", \"a\");\n",
    "        System.out.println(\"Better Guess: \" + betterGuess);\n",
    "    }\n",
    "}\n",
    "\n",
    "\n",
    "\n",
    "\n",
    "WordMatch.main(null);"
   ]
  },
  {
   "cell_type": "markdown",
   "metadata": {},
   "source": [
    "## Problems I encoutered\n",
    "\n",
    "## Takeways\n",
    "\n",
    "- Sub String function\n",
    "    - Checks for chars in both strings\n",
    "    - built in function\n",
    "- EqualsIgorneCase\n",
    "    - self explantory\n",
    "\n",
    "- How to do for loops in java\n",
    "\n",
    "## Scoring\n",
    "1.  1/1 Compares guess to a substring of secert\n",
    "    - My code does that\n",
    "\n",
    "2. 1/1 Uses a substring of secert with correct length comparrasion\n",
    "    - It choses the correct substring\n",
    "    - Choosing I over A in mississippi\n",
    "\n",
    "3. 1/1 Loops through all necessary substrings of secret (no bounds errors)\n",
    "    - Loops through the length of the secert string so no overlaps happen\n",
    "\n",
    "4. 1/1 Counts number of identified occurrences of guess within secret (in the context of a condition involving both secret and guess)\n",
    "    - The count varible has this covered\n",
    "\n",
    "5. 1/1 Calculates score correctly\n",
    "    - The score values when compared are correct\n",
    "\n",
    "6. 1/1 Calls ScoreGuess to get scores for guess1 and guess2\n",
    "    - Calls that function when comparing the two\n",
    "\n",
    "7. 1/1 Compares Scores\n",
    "    - If staments that does those things\n",
    "\n",
    "8. 0/1 Determines which of guess1 and guess2 is alphabetically greater\n",
    "    - I didn't do this\n",
    "\n",
    "9. 1/1 Returns the idenified guess1 or guess2\n",
    "    - My code does do this\n",
    "\n",
    "## 8/9\n",
    "\n"
   ]
  }
 ],
 "metadata": {
  "kernelspec": {
   "display_name": "Java",
   "language": "java",
   "name": "java"
  },
  "language_info": {
   "codemirror_mode": "java",
   "file_extension": ".jshell",
   "mimetype": "text/x-java-source",
   "name": "java",
   "pygments_lexer": "java",
   "version": "17.0.8.1+1-Ubuntu-0ubuntu120.04"
  },
  "orig_nbformat": 4
 },
 "nbformat": 4,
 "nbformat_minor": 2
}
