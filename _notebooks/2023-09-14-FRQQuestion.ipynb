{
 "cells": [
  {
   "cell_type": "markdown",
   "metadata": {},
   "source": [
    "---\n",
    "layout: posts\n",
    "title: Past FRQ question\n",
    "description: frq 2\n",
    "toc: true\n",
    "type: hacks\n",
    "---"
   ]
  },
  {
   "cell_type": "markdown",
   "metadata": {},
   "source": [
    "## Word Match Class\n",
    "- The Word Match class has a secert string\n",
    "\n",
    "### Methods you have to write\n",
    "- The class with give a score depending on how close the string was with score\n",
    "- Also make a findBetterGuess method would compare the two scores for the two strings inputed"
   ]
  },
  {
   "cell_type": "code",
   "execution_count": 1,
   "metadata": {
    "vscode": {
     "languageId": "java"
    }
   },
   "outputs": [
    {
     "name": "stdout",
     "output_type": "stream",
     "text": [
      "Better Guess: i\n"
     ]
    }
   ],
   "source": [
    "public class WordMatch {\n",
    "\n",
    "    private String secret = \"mississippi\";\n",
    "\n",
    "    public int scoreGuess(String guess) {\n",
    "        int count = 0;\n",
    "        String temp;\n",
    "        for (int x = 0; x <= secret.length() - guess.length(); x++) { // Use <= instead of < to check all substrings\n",
    "            temp = secret.substring(x, x + guess.length()); // Specify the end index for the substring\n",
    "            if (temp.equalsIgnoreCase(guess)) { // Use equalsIgnoreCase to ignore case\n",
    "                count++;\n",
    "            }\n",
    "        }\n",
    "        int score = count * guess.length() * guess.length();\n",
    "        return score;\n",
    "    }\n",
    "    \n",
    "\n",
    "    public String findBetterGuess(String guess1, String guess2) {\n",
    "        int score1 = scoreGuess(guess1); // Calculate the scores once\n",
    "        int score2 = scoreGuess(guess2);\n",
    "\n",
    "        if (score1 > score2) {\n",
    "            return guess1;\n",
    "        } else if (score2 > score1) { // Changed to else if\n",
    "            return guess2;\n",
    "        } else { // Added an else block\n",
    "            if (guess1.compareTo(guess2) > 0) {\n",
    "                return guess1;\n",
    "            }\n",
    "            return guess2;\n",
    "        }\n",
    "    }\n",
    "\n",
    "    public static void main(String[] args) {\n",
    "        WordMatch wordMatch = new WordMatch();\n",
    "        String betterGuess = wordMatch.findBetterGuess(\"i\", \"a\");\n",
    "        System.out.println(\"Better Guess: \" + betterGuess);\n",
    "    }\n",
    "}\n",
    "\n",
    "\n",
    "\n",
    "\n",
    "WordMatch.main(null);"
   ]
  }
 ],
 "metadata": {
  "kernelspec": {
   "display_name": "Java",
   "language": "java",
   "name": "java"
  },
  "language_info": {
   "codemirror_mode": "java",
   "file_extension": ".jshell",
   "mimetype": "text/x-java-source",
   "name": "Java",
   "pygments_lexer": "java",
   "version": "17.0.8.1+1-Ubuntu-0ubuntu120.04"
  },
  "orig_nbformat": 4
 },
 "nbformat": 4,
 "nbformat_minor": 2
}
