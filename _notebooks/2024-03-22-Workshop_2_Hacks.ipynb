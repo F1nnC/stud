{
 "cells": [
  {
   "cell_type": "markdown",
   "metadata": {},
   "source": [
    "---\n",
    "title: Workshop 2 Hacks\n",
    "description: Classes Workshop Hacks\n",
    "toc: true\n",
    "layout: posts\n",
    "type: hacks\n",
    "comments: true\n",
    "permalink: Lesson2FRQ\n",
    "---"
   ]
  },
  {
   "cell_type": "markdown",
   "metadata": {},
   "source": [
    "# Free Response Questions\n",
    "\n",
    "## Question 1 - Pojos and Access Control:\n",
    "Situation: The school librarian wants to create a program that stores all of the books within the library in a database and is used to manage their inventory of books available to the students. You decided to put your amazing code skills to work and help out the librarian!\n",
    "\n",
    "a. Describe the key differences between the private and public access controllers and how it affects a POJO\n",
    "\n",
    "b. Identify a scenario when you would use the private vs. public access controllers that isn't the one given in the scenario above\n",
    "\n",
    "c. Create a Book class that represents the following attributes about a book: title, author, date published, person holding the book and make sure that the objects are using a POJO, the proper getters and setters and are secure from any other modifications that the program makes later to the objects\n"
   ]
  },
  {
   "cell_type": "code",
   "execution_count": null,
   "metadata": {
    "vscode": {
     "languageId": "java"
    }
   },
   "outputs": [],
   "source": []
  },
  {
   "cell_type": "markdown",
   "metadata": {},
   "source": [
    "## Question 2 - Writing Classes:\n",
    "\n",
    "(a) Describe the different features needed to create a class and what their purpose is.\n",
    "\n",
    "(b) Code:\n",
    "\n",
    "Create a Java class BankAccount to represent a simple bank account. This class should have the following attributes:\n",
    "- accountHolder (String): The name of the account holder.\n",
    "balance (double): The current balance in the account.\n",
    "Implement the following mutator (setter) methods for the BankAccount class:\n",
    "- setAccountHolder(String name): Sets the name of the account holder.\n",
    "- deposit(double amount): Deposits a given amount into the account.\n",
    "- withdraw(double amount): Withdraws a given amount from the account, but only if the withdrawal amount is less than or equal to the current balance.\n",
    "Ensure that the balance is never negative."
   ]
  },
  {
   "cell_type": "code",
   "execution_count": 8,
   "metadata": {
    "vscode": {
     "languageId": "java"
    }
   },
   "outputs": [
    {
     "name": "stdout",
     "output_type": "stream",
     "text": [
      "Initial balance: 1000.0\n",
      "Balance after depositing 500: 1500.0\n",
      "Balance after withdrawing 200: 1300.0\n"
     ]
    }
   ],
   "source": [
    "public class BankAccount {\n",
    "    private String accountHolder;\n",
    "    private double balance;\n",
    "\n",
    "    // Constructor\n",
    "    public BankAccount(String accountHolder, double balance) {\n",
    "        this.accountHolder = accountHolder;\n",
    "        this.balance = balance;\n",
    "    }\n",
    "\n",
    "    // Setter for accountHolder\n",
    "    public void setAccountHolder(String accountHolder) {\n",
    "        this.accountHolder = accountHolder;\n",
    "    }\n",
    "\n",
    "    // Method to deposit amount\n",
    "    public void deposit(double amount) {\n",
    "        if (amount > 0) {\n",
    "            this.balance += amount;\n",
    "        }\n",
    "    }\n",
    "\n",
    "    // Method to withdraw amount\n",
    "    public void withdraw(double amount) {\n",
    "        if (amount > 0 && amount <= this.balance) {\n",
    "            this.balance -= amount;\n",
    "        }\n",
    "    }\n",
    "\n",
    "    // Getter for balance\n",
    "    public double getBalance() {\n",
    "        return this.balance;\n",
    "    }\n",
    "\n",
    "    public static void main(String[] args) {\n",
    "        BankAccount account = new BankAccount(\"John Doe\", 1000);\n",
    "        System.out.println(\"Initial balance: \" + account.getBalance());\n",
    "        account.deposit(500);\n",
    "        System.out.println(\"Balance after depositing 500: \" + account.getBalance());\n",
    "        account.withdraw(200);\n",
    "        System.out.println(\"Balance after withdrawing 200: \" + account.getBalance());\n",
    "    }\n",
    "}\n",
    "\n",
    "BankAccount.main(null);"
   ]
  },
  {
   "cell_type": "markdown",
   "metadata": {},
   "source": [
    "## Question 3 - Instantiation of a Class\n",
    "\n",
    "(a) Explain how a constructor works, including when it runs and what generally is done within a constructor.\n",
    "\n",
    "(b) Create an example of an overloaded constructor within a class. You must use at least three variables. Include the correct initialization of variables and correct headers for the constructor. Then, run the constructor at least twice with different variables and demonstrate that these two objects called different constructors. "
   ]
  },
  {
   "cell_type": "code",
   "execution_count": 3,
   "metadata": {
    "vscode": {
     "languageId": "java"
    }
   },
   "outputs": [
    {
     "name": "stdout",
     "output_type": "stream",
     "text": [
      "Name: John, Age: 0, Address: \n",
      "Name: Jane, Age: 25, Address: \n",
      "Name: Jack, Age: 30, Address: 123 Street, City\n"
     ]
    }
   ],
   "source": [
    "public class Person {\n",
    "    private String name;\n",
    "    private int age;\n",
    "    private String address;\n",
    "\n",
    "    // Constructor with 1 parameter\n",
    "    public Person(String name) {\n",
    "        this.name = name;\n",
    "        this.age = 0; // Default value\n",
    "        this.address = \"\"; // Default value\n",
    "    }\n",
    "\n",
    "    // Constructor with 2 parameters\n",
    "    public Person(String name, int age) {\n",
    "        this.name = name;\n",
    "        this.age = age;\n",
    "        this.address = \"\"; // Default value\n",
    "    }\n",
    "\n",
    "    // Constructor with 3 parameters\n",
    "    public Person(String name, int age, String address) {\n",
    "        this.name = name;\n",
    "        this.age = age;\n",
    "        this.address = address;\n",
    "    }\n",
    "\n",
    "    // Method to print person details\n",
    "    public void printPerson() {\n",
    "        System.out.println(\"Name: \" + this.name + \", Age: \" + this.age + \", Address: \" + this.address);\n",
    "    }\n",
    "}\n",
    "\n",
    "// Create objects using different constructors\n",
    "Person person1 = new Person(\"John\");\n",
    "Person person2 = new Person(\"Jane\", 25);\n",
    "Person person3 = new Person(\"Jack\", 30, \"123 Street, City\");\n",
    "\n",
    "// Print person details\n",
    "person1.printPerson();\n",
    "person2.printPerson();\n",
    "person3.printPerson();"
   ]
  },
  {
   "cell_type": "markdown",
   "metadata": {},
   "source": [
    "## Question 4 - Wrapper Classes:\n",
    "\n",
    "(a) Provide a brief summary of what a wrapper class is and provide a small code block showing a basic example of a wrapper class.\n",
    "\n",
    "(b) Create a Java wrapper class called Temperature to represent temperatures in Celsius. Your Temperature class should have the following features:\n",
    "\n",
    "Fields:\n",
    "\n",
    "A private double field to store the temperature value in Celsius.\n",
    "\n",
    "\n",
    "Constructor:\n",
    "\n",
    "A constructor that takes a double value representing the temperature in Celsius and initializes the field.\n",
    "\n",
    "\n",
    "Methods:\n",
    "\n",
    "getTemperature(): A method that returns the temperature value in Celsius.\n",
    "setTemperature(double value): A method that sets a new temperature value in Celsius.\n",
    "toFahrenheit(): A method that converts the temperature from Celsius to Fahrenheit and returns the result as a double value. "
   ]
  },
  {
   "cell_type": "code",
   "execution_count": 6,
   "metadata": {
    "vscode": {
     "languageId": "java"
    }
   },
   "outputs": [
    {
     "name": "stdout",
     "output_type": "stream",
     "text": [
      "Temperature in Celsius: 25.0\n",
      "Temperature in Fahrenheit: 77.0\n"
     ]
    }
   ],
   "source": [
    "public class Temperature {\n",
    "    private double celsius;\n",
    "\n",
    "    // Constructor\n",
    "    public Temperature(double celsius) {\n",
    "        this.celsius = celsius;\n",
    "    }\n",
    "\n",
    "    // Getter for temperature in Celsius\n",
    "    public double getTemperature() {\n",
    "        return this.celsius;\n",
    "    }\n",
    "\n",
    "    // Setter for temperature in Celsius\n",
    "    public void setTemperature(double celsius) {\n",
    "        this.celsius = celsius;\n",
    "    }\n",
    "\n",
    "    // Method to convert Celsius to Fahrenheit\n",
    "    public double toFahrenheit() {\n",
    "        return this.celsius * 9/5 + 32;\n",
    "    }\n",
    "\n",
    "    public static void main(String[] args) {\n",
    "        // Create a Temperature object\n",
    "        Temperature temp = new Temperature(25);\n",
    "\n",
    "        // Print temperature in Celsius\n",
    "        System.out.println(\"Temperature in Celsius: \" + temp.getTemperature());\n",
    "\n",
    "        // Convert temperature to Fahrenheit\n",
    "        System.out.println(\"Temperature in Fahrenheit: \" + temp.toFahrenheit());\n",
    "    }\n",
    "}\n",
    "\n",
    "Temperature.main(null);"
   ]
  },
  {
   "cell_type": "markdown",
   "metadata": {},
   "source": [
    "## Question 5 - Inheritence:\n",
    "\n",
    "Situation: You are developing a program to manage a zoo, where various types of animals are kept in different enclosures. To streamline your code, you decide to use inheritance to model the relationships between different types of animals and their behaviors.\n",
    "\n",
    "(a) Explain the concept of inheritance in Java. Provide an example scenario where inheritance is useful.\n",
    "\n",
    "(b) Code:\n",
    "\n",
    "You need to implement a Java class hierarchy to represent different types of animals in the zoo. Create a superclass Animal with basic attributes and methods common to all animals, and at least three subclasses representing specific types of animals with additional attributes and methods. Include comments to explain your code, specifically how inheritance is used.\n"
   ]
  },
  {
   "cell_type": "code",
   "execution_count": null,
   "metadata": {
    "vscode": {
     "languageId": "java"
    }
   },
   "outputs": [],
   "source": []
  }
 ],
 "metadata": {
  "kernelspec": {
   "display_name": "Java",
   "language": "java",
   "name": "java"
  },
  "language_info": {
   "codemirror_mode": "java",
   "file_extension": ".jshell",
   "mimetype": "text/x-java-source",
   "name": "Java",
   "pygments_lexer": "java",
   "version": "20.0.2+9"
  }
 },
 "nbformat": 4,
 "nbformat_minor": 2
}
