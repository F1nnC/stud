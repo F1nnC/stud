{
 "cells": [
  {
   "cell_type": "markdown",
   "metadata": {},
   "source": [
    "---\n",
    "layout: posts\n",
    "title: First java notebook\n",
    "description: hello world\n",
    "toc: true\n",
    "comments: true\n",
    "categories: [5.A, C4.1]\n",
    "type: hacks\n",
    "course: {csa: {week: 1}}\n",
    "---"
   ]
  },
  {
   "cell_type": "code",
   "execution_count": 1,
   "metadata": {
    "vscode": {
     "languageId": "java"
    }
   },
   "outputs": [
    {
     "name": "stdout",
     "output_type": "stream",
     "text": [
      "Hello World!\n"
     ]
    }
   ],
   "source": [
    "// Define Static Method within a Class\n",
    "public class HelloStatic {\n",
    "    // Java standard runtime entry point\n",
    "    public static void main(String[] args) {\n",
    "        System.out.println(\"Hello World!\");\n",
    "    }\n",
    "}\n",
    "// A method call allows us to execute code that is wrapped in Class\n",
    "HelloStatic.main(null);   // Class prefix allows reference of Static Method"
   ]
  },
  {
   "cell_type": "markdown",
   "metadata": {},
   "source": [
    "## 1st class"
   ]
  },
  {
   "cell_type": "code",
   "execution_count": 2,
   "metadata": {
    "vscode": {
     "languageId": "java"
    }
   },
   "outputs": [
    {
     "name": "stdout",
     "output_type": "stream",
     "text": [
      "8\n",
      "15\n"
     ]
    }
   ],
   "source": [
    "// Addition class\n",
    "public class Addition {\n",
    "    // var for result\n",
    "    private int result;\n",
    "    \n",
    "    // static version\n",
    "    public Addition() {\n",
    "        this.setAdd(3, 5); \n",
    "    }\n",
    "\n",
    "    // argument constructor version\n",
    "    public Addition(int A, int B) { \n",
    "        this.setAdd(A, B);\n",
    "    }\n",
    "\n",
    "    // setter\n",
    "    public void setAdd(int A, int B) {\n",
    "        this.result = A + B;\n",
    "    }\n",
    "\n",
    "    public int getAdd() {\n",
    "        return this.result;\n",
    "    }\n",
    "\n",
    "    public static void main(String[] args) {\n",
    "        Addition hd1 = new Addition(); // no-argument constructor\n",
    "        Addition hd2 = new Addition(10, 5); // constructor with arguments\n",
    "        System.out.println(hd1.getAdd());\n",
    "        System.out.println(hd2.getAdd());\n",
    "    }\n",
    "}\n",
    "\n",
    "\n",
    "Addition.main(null);"
   ]
  },
  {
   "cell_type": "markdown",
   "metadata": {},
   "source": [
    "## Mean, Median, Mode"
   ]
  },
  {
   "cell_type": "code",
   "execution_count": null,
   "metadata": {
    "vscode": {
     "languageId": "java"
    }
   },
   "outputs": [],
   "source": []
  },
  {
   "cell_type": "code",
   "execution_count": null,
   "metadata": {
    "vscode": {
     "languageId": "java"
    }
   },
   "outputs": [],
   "source": [
    "public class 3M {\n",
    "    \n",
    "    public\n",
    "\n",
    "}"
   ]
  }
 ],
 "metadata": {
  "kernelspec": {
   "display_name": "Java",
   "language": "java",
   "name": "java"
  },
  "language_info": {
   "codemirror_mode": "java",
   "file_extension": ".jshell",
   "mimetype": "text/x-java-source",
   "name": "Java",
   "pygments_lexer": "java",
   "version": "11.0.20+8-post-Ubuntu-1ubuntu120.04"
  },
  "orig_nbformat": 4
 },
 "nbformat": 4,
 "nbformat_minor": 2
}
