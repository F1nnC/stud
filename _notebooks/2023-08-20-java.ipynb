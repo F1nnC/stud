{
 "cells": [
  {
   "cell_type": "markdown",
   "metadata": {},
   "source": [
    "---\n",
    "layout: posts\n",
    "title: First java notebook\n",
    "description: starter code for javascript\n",
    "toc: true\n",
    "comments: true\n",
    "categories: [AP]\n",
    "type: hacks\n",
    "courses: { csa: {week: 1} }\n",
    "---"
   ]
  },
  {
   "cell_type": "markdown",
   "metadata": {},
   "source": [
    "## Hello world"
   ]
  },
  {
   "cell_type": "code",
   "execution_count": 1,
   "metadata": {},
   "outputs": [
    {
     "name": "stdout",
     "output_type": "stream",
     "text": [
      "Hello World!\n"
     ]
    }
   ],
   "source": [
    "// Define Static Method within a Class\n",
    "public class HelloStatic {\n",
    "    // Java standard runtime entry point\n",
    "    public static void main(String[] args) {\n",
    "        System.out.println(\"Hello World!\");\n",
    "    }\n",
    "}\n",
    "// A method call allows us to execute code that is wrapped in Class\n",
    "HelloStatic.main(null);   // Class prefix allows reference of Static Method"
   ]
  },
  {
   "cell_type": "markdown",
   "metadata": {},
   "source": [
    "## 1st class"
   ]
  },
  {
   "cell_type": "code",
   "execution_count": 2,
   "metadata": {},
   "outputs": [
    {
     "name": "stdout",
     "output_type": "stream",
     "text": [
      "8\n",
      "15\n"
     ]
    }
   ],
   "source": [
    "// Addition class\n",
    "public class Addition {\n",
    "    // var for result\n",
    "    private int result;\n",
    "    \n",
    "    // static version\n",
    "    public Addition() {\n",
    "        this.setAdd(3, 5); \n",
    "    }\n",
    "\n",
    "    // argument constructor version\n",
    "    public Addition(int A, int B) { \n",
    "        this.setAdd(A, B);\n",
    "    }\n",
    "\n",
    "    // setter\n",
    "    public void setAdd(int A, int B) {\n",
    "        this.result = A + B;\n",
    "    }\n",
    "\n",
    "    public int getAdd() {\n",
    "        return this.result;\n",
    "    }\n",
    "\n",
    "    public static void main(String[] args) {\n",
    "        Addition hd1 = new Addition(); // no-argument constructor\n",
    "        Addition hd2 = new Addition(10, 5); // constructor with arguments\n",
    "        System.out.println(hd1.getAdd());\n",
    "        System.out.println(hd2.getAdd());\n",
    "    }\n",
    "}\n",
    "\n",
    "\n",
    "Addition.main(null);"
   ]
  },
  {
   "cell_type": "markdown",
   "metadata": {},
   "source": [
    "## Mean, Median, Mode\n",
    "- Mile runner"
   ]
  },
  {
   "cell_type": "code",
   "execution_count": 3,
   "metadata": {},
   "outputs": [
    {
     "name": "stdout",
     "output_type": "stream",
     "text": [
      "Mean: 6.2\n",
      "Median: 5.0\n",
      "Mode: 5\n",
      "Sum: 31\n"
     ]
    }
   ],
   "source": [
    "import java.util.ArrayList;\n",
    "import java.util.Collections;\n",
    "import java.util.HashMap;\n",
    "import java.util.Map;\n",
    "\n",
    "public class ListStats {\n",
    "    public static void main(String[] args) {\n",
    "        // Create an ArrayList and populate it\n",
    "        ArrayList<Integer> numbers = new ArrayList<>();\n",
    "        numbers.add(5);\n",
    "        numbers.add(5);\n",
    "        numbers.add(7);\n",
    "        numbers.add(9);\n",
    "        numbers.add(5);\n",
    "\n",
    "        // Calculate sum for mean and median\n",
    "        int sum = 0;\n",
    "        for (int num : numbers) {\n",
    "            sum += num;\n",
    "        }\n",
    "\n",
    "        // Calculate mean\n",
    "        double mean = (double) sum / numbers.size();\n",
    "\n",
    "        // Calculate median\n",
    "        Collections.sort(numbers);\n",
    "        double median; // Double is a way to store floating point values\n",
    "        if (numbers.size() % 2 == 0) {\n",
    "            int middle1 = numbers.get(numbers.size() / 2 - 1);\n",
    "            int middle2 = numbers.get(numbers.size() / 2);\n",
    "            median = (double) (middle1 + middle2) / 2;\n",
    "        } else {\n",
    "            median = numbers.get(numbers.size() / 2);\n",
    "        }\n",
    "\n",
    "        // Calculate mode\n",
    "        Map<Integer, Integer> frequencyMap = new HashMap<>();\n",
    "        for (int num : numbers) { // same thing as a for each but java uses a :\n",
    "            frequencyMap.put(num, frequencyMap.getOrDefault(num, 0) + 1);\n",
    "        }\n",
    "        \n",
    "        int mode = -1;\n",
    "        int maxFrequency = 0;\n",
    "        for (Map.Entry<Integer, Integer> entry : frequencyMap.entrySet()) {\n",
    "            if (entry.getValue() > maxFrequency) {\n",
    "                mode = entry.getKey();\n",
    "                maxFrequency = entry.getValue();\n",
    "            }\n",
    "        }\n",
    "\n",
    "        // Print results\n",
    "        System.out.println(\"Mean: \" + mean);\n",
    "        System.out.println(\"Median: \" + median);\n",
    "        System.out.println(\"Mode: \" + mode);\n",
    "        System.out.println(\"Sum: \" + sum);\n",
    "    }\n",
    "}\n",
    "\n",
    "ListStats.main(null);"
   ]
  }
 ],
 "metadata": {
  "kernelspec": {
   "display_name": "Java",
   "language": "java",
   "name": "java"
  },
  "language_info": {
   "codemirror_mode": "java",
   "file_extension": ".jshell",
   "mimetype": "text/x-java-source",
   "name": "java",
   "pygments_lexer": "java",
   "version": "11.0.20+8-post-Ubuntu-1ubuntu120.04"
  },
  "orig_nbformat": 4
 },
 "nbformat": 4,
 "nbformat_minor": 2
}
