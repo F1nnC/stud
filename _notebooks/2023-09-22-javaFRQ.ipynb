{
 "cells": [
  {
   "cell_type": "markdown",
   "metadata": {},
   "source": [
    "## Initalize Num Keypad"
   ]
  },
  {
   "cell_type": "code",
   "execution_count": 26,
   "metadata": {
    "vscode": {
     "languageId": "java"
    }
   },
   "outputs": [
    {
     "name": "stdout",
     "output_type": "stream",
     "text": [
      "10 9 8 7 6 5 4 3 2 1 1 2 3 4 5 6 7 8 9 10 \n"
     ]
    }
   ],
   "source": [
    "\n",
    "\n",
    "public class Keypad {\n",
    "    public int instead;\n",
    "    public static void func() {\n",
    "        int[] keypad = {1, 2, 3, 4, 5, 6, 7, 8, 9, 10};\n",
    "        String sum = \"\";\n",
    "        for (int i =10; i > 0; i-- ) {\n",
    "            sum += keypad[i-1] + \" \";\n",
    "        }\n",
    "        reverseArray(keypad);\n",
    "        for (int i =10; i > 0; i-- ) {\n",
    "            sum += keypad[i-1] + \" \";\n",
    "        }\n",
    "        System.out.println(sum);\n",
    "    }\n",
    "    public static void reverseArray(int[] a) {\n",
    "        int instead = 0;\n",
    "        for (int t = 0; t < a.length/2; t++) {\n",
    "            instead = a[t];\n",
    "            a[t] = a[a.length- t-1];\n",
    "            a[a.length- t-1] = instead;\n",
    "        }\n",
    "    }\n",
    "    public static void main(String[] args) {\n",
    "        func();\n",
    "    }\n",
    "    \n",
    "}\n",
    "Keypad.main(null);"
   ]
  },
  {
   "cell_type": "markdown",
   "metadata": {},
   "source": [
    "## Intialize random letters in arraylist"
   ]
  },
  {
   "cell_type": "code",
   "execution_count": 59,
   "metadata": {
    "vscode": {
     "languageId": "java"
    }
   },
   "outputs": [
    {
     "ename": "CompilationException",
     "evalue": "",
     "output_type": "error",
     "traceback": [
      "\u001b[1m\u001b[30m|   \u001b[1m\u001b[30m        return \u001b[0m\u001b[1m\u001b[30m\u001b[41mrandomNum\u001b[0m\u001b[1m\u001b[30m;\u001b[0m",
      "\u001b[1m\u001b[31mincompatible types: unexpected return value\u001b[0m",
      "",
      "\u001b[1m\u001b[30m|   \u001b[1m\u001b[30m        String randomNum1 = \u001b[0m\u001b[1m\u001b[30m\u001b[41mintializeRandomLetter()\u001b[0m\u001b[1m\u001b[30m;\u001b[0m",
      "\u001b[1m\u001b[31mincompatible types: void cannot be converted to java.lang.String\u001b[0m",
      "",
      "\u001b[1m\u001b[30m|   \u001b[1m\u001b[30m        String randomNum2 = \u001b[0m\u001b[1m\u001b[30m\u001b[41mintializeRandomLetter()\u001b[0m\u001b[1m\u001b[30m;\u001b[0m",
      "\u001b[1m\u001b[31mincompatible types: void cannot be converted to java.lang.String\u001b[0m",
      "",
      "\u001b[1m\u001b[30m|   \u001b[1m\u001b[30m        String randomNum3 = \u001b[0m\u001b[1m\u001b[30m\u001b[41mintializeRandomLetter()\u001b[0m\u001b[1m\u001b[30m;\u001b[0m",
      "\u001b[1m\u001b[31mincompatible types: void cannot be converted to java.lang.String\u001b[0m",
      ""
     ]
    }
   ],
   "source": [
    "import java.util.ArrayList;\n",
    "import java.util.Random;\n",
    "\n",
    "\n",
    "public class Intialization {\n",
    "    public static void intializeRandomLetter() {\n",
    "        int randomNum = (int) (Math.random() * (2 - 0 + 1));\n",
    "        return randomNum;\n",
    "    }\n",
    "    public static void main(String[] args) {\n",
    "        ArrayList<String> letters = new ArrayList<String>();\n",
    "        \n",
    "        System.out.println(letters);\n",
    "    }\n",
    "}\n",
    "Intialization.main(null);"
   ]
  }
 ],
 "metadata": {
  "kernelspec": {
   "display_name": "Java",
   "language": "java",
   "name": "java"
  },
  "language_info": {
   "codemirror_mode": "java",
   "file_extension": ".jshell",
   "mimetype": "text/x-java-source",
   "name": "Java",
   "pygments_lexer": "java",
   "version": "17.0.8.1+1-Ubuntu-0ubuntu120.04"
  },
  "orig_nbformat": 4
 },
 "nbformat": 4,
 "nbformat_minor": 2
}
