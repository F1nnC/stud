{
 "cells": [
  {
   "cell_type": "markdown",
   "metadata": {},
   "source": [
    "---\n",
    "layout: default\n",
    "title: FRQ 2 Classes\n",
    "description: information about classes\n",
    "toc: true\n",
    "type: hacks\n",
    "---"
   ]
  },
  {
   "cell_type": "code",
   "execution_count": null,
   "metadata": {},
   "outputs": [],
   "source": [
    "import java.util.ArrayList;\n",
    "\n",
    "public class ArrayListExample {\n",
    "    private ArrayList<Integer> integerList = new ArrayList<>();\n",
    "\n",
    "    // Void method to add an integer to the ArrayList\n",
    "    public void addToArrayList(int value) {\n",
    "        integerList.add(value);\n",
    "    }\n",
    "\n",
    "    // Non-void method to get the value at a specified index\n",
    "    public int getValueAtIndex(int index) {\n",
    "        if (index >= 0 && index < integerList.size()) {\n",
    "            return integerList.get(index);\n",
    "        } else {\n",
    "            // Handle an out-of-bounds index, you can choose to throw an exception or return a default value\n",
    "            throw new IndexOutOfBoundsException(\"Index is out of bounds\");\n",
    "        }\n",
    "    }\n",
    "\n",
    "    public static void main(String[] args) {\n",
    "        ArrayListExample example = new ArrayListExample();\n",
    "\n",
    "        // Adding values to the ArrayList\n",
    "        example.addToArrayList(10);\n",
    "        example.addToArrayList(20);\n",
    "        example.addToArrayList(30);\n",
    "\n",
    "        // Retrieving values from the ArrayList\n",
    "        int valueAtIndex1 = example.getValueAtIndex(1);\n",
    "        int valueAtIndex2 = example.getValueAtIndex(2);\n",
    "\n",
    "        System.out.println(\"Value at index 1: \" + valueAtIndex1); // Output: Value at index 1: 20\n",
    "        System.out.println(\"Value at index 2: \" + valueAtIndex2); // Output: Value at index 2: 30\n",
    "    }\n",
    "}\n"
   ]
  }
 ],
 "metadata": {
  "kernelspec": {
   "display_name": "Java",
   "language": "java",
   "name": "java"
  },
  "language_info": {
   "name": "java"
  }
 },
 "nbformat": 4,
 "nbformat_minor": 2
}
