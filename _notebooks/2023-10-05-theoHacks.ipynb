{
 "cells": [
  {
   "cell_type": "markdown",
   "metadata": {},
   "source": [
    "---\n",
    "layout: default\n",
    "title: Theo's Hacks\n",
    "description: yeah\n",
    "toc: true\n",
    "type: hacks\n",
    "permalink: /theo\n",
    "---"
   ]
  },
  {
   "cell_type": "code",
   "execution_count": 2,
   "metadata": {},
   "outputs": [
    {
     "name": "stdout",
     "output_type": "stream",
     "text": [
      "Value at index 1: 20\n",
      "Value at index 2: 30\n"
     ]
    }
   ],
   "source": [
    "import java.util.ArrayList;\n",
    "\n",
    "public class ArrayListExample {\n",
    "    private ArrayList<Integer> integerList = new ArrayList<>();\n",
    "\n",
    "    // Void method to add an integer to the ArrayList\n",
    "    public void addToArrayList(int value) {\n",
    "        integerList.add(value);\n",
    "    }\n",
    "\n",
    "    // Non-void method to get the value at a specified index\n",
    "    public int getValueAtIndex(int index) {\n",
    "        if (index >= 0 && index < integerList.size()) {\n",
    "            return integerList.get(index);\n",
    "        } else {\n",
    "            //\n",
    "            throw new IndexOutOfBoundsException(\"Yo this aint in there big dawg\");\n",
    "        }\n",
    "    }\n",
    "\n",
    "    public static void main(String[] args) {\n",
    "        ArrayListExample example = new ArrayListExample();\n",
    "\n",
    "        // Adding values to the ArrayList\n",
    "        example.addToArrayList(10);\n",
    "        example.addToArrayList(20);\n",
    "        example.addToArrayList(30);\n",
    "\n",
    "        // Retrieving values from the ArrayList\n",
    "        int valueAtIndex1 = example.getValueAtIndex(1);\n",
    "        int valueAtIndex2 = example.getValueAtIndex(2);\n",
    "\n",
    "        System.out.println(\"Value at index 1: \" + valueAtIndex1); \n",
    "        System.out.println(\"Value at index 2: \" + valueAtIndex2); \n",
    "    }\n",
    "}\n",
    "\n",
    "ArrayListExample.main(null);\n"
   ]
  }
 ],
 "metadata": {
  "kernelspec": {
   "display_name": "Java",
   "language": "java",
   "name": "java"
  },
  "language_info": {
   "codemirror_mode": "java",
   "file_extension": ".jshell",
   "mimetype": "text/x-java-source",
   "name": "java",
   "pygments_lexer": "java",
   "version": "20.0.2+9"
  }
 },
 "nbformat": 4,
 "nbformat_minor": 2
}
