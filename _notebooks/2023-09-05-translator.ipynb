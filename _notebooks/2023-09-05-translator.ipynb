{
 "cells": [
  {
   "cell_type": "markdown",
   "metadata": {},
   "source": [
    "---\n",
    "layout: posts\n",
    "title: Translator between english and korean\n",
    "description: cool translator\n",
    "toc: true\n",
    "type: hacks\n",
    "courses: { csa: {week: 2} }\n",
    "---"
   ]
  },
  {
   "cell_type": "code",
   "execution_count": 21,
   "metadata": {
    "vscode": {
     "languageId": "html"
    }
   },
   "outputs": [
    {
     "data": {
      "text/html": [
       "\n",
       "<body>\n",
       "    <label>Choose a Lang:</label>\n",
       "    <select id=\"baselang\">\n",
       "        <option value=\"ko\">한국인</option>\n",
       "        <option value=\"en\">English</option>\n",
       "    </select>\n",
       "    <br>\n",
       "    <input width=\"150px\" id=\"text\">\n",
       "    <button onclick=\"T()\">Translate/번역하다</button>\n",
       "    <p id=\"result\"></p>\n",
       "\n",
       "    <script>\n",
       "        async function T() {\n",
       "            // Vars\n",
       "            const resultHTML = document.getElementById(\"result\");\n",
       "            const BaseLang = document.getElementById(\"baselang\").value;\n",
       "            let TranLang = \"ko\"; // Use let instead of const\n",
       "            const text = document.getElementById(\"text\").value;\n",
       "\n",
       "            const url = 'https://google-translate1.p.rapidapi.com/language/translate/v2';\n",
       "            \n",
       "            // Figuring out the language to translate into\n",
       "            if (BaseLang === \"en\") { // Use === for comparison\n",
       "                TranLang = \"ko\"; // Use = for assignment\n",
       "            } else {\n",
       "                TranLang = \"en\";\n",
       "            }\n",
       "\n",
       "            const options = {\n",
       "                method: 'POST',\n",
       "                headers: {\n",
       "                    'content-type': 'application/x-www-form-urlencoded',\n",
       "\t\t            'Accept-Encoding': 'application/gzip',\n",
       "\t\t            'X-RapidAPI-Key': '8222bd61f1mshad1ad1dfca1b2bcp1aa093jsnd4c03fb4a7ae',\n",
       "\t\t            'X-RapidAPI-Host': 'google-translate1.p.rapidapi.com'\n",
       "                },\n",
       "                body: new URLSearchParams({\n",
       "                    q: text,\n",
       "                    target: TranLang,\n",
       "                    source: BaseLang\n",
       "                }).toString()\n",
       "            };\n",
       "\n",
       "            try {\n",
       "                const response = await fetch(url, options);\n",
       "                const result = await response.json();\n",
       "                console.log(result);\n",
       "                resultHTML.innerHTML = result.data.translations[0].translatedText;\n",
       "            } catch (error) {\n",
       "                console.error(error);\n",
       "                resultHTML.innerHTML = \"An error occurred\";\n",
       "            }\n",
       "        }\n",
       "    </script>\n",
       "</body>\n"
      ],
      "text/plain": [
       "<IPython.core.display.HTML object>"
      ]
     },
     "metadata": {},
     "output_type": "display_data"
    }
   ],
   "source": [
    "%%html\n",
    "\n",
    "<body>\n",
    "    <label>Choose a Lang:</label>\n",
    "    <select id=\"baselang\">\n",
    "        <option value=\"ko\">한국인</option>\n",
    "        <option value=\"en\">English</option>\n",
    "    </select>\n",
    "    <br>\n",
    "    <input width=\"150px\" id=\"text\">\n",
    "    <button onclick=\"T()\">Translate/번역하다</button>\n",
    "    <p id=\"result\"></p>\n",
    "\n",
    "    <script>\n",
    "        async function T() {\n",
    "            // Vars\n",
    "            const resultHTML = document.getElementById(\"result\");\n",
    "            const BaseLang = document.getElementById(\"baselang\").value;\n",
    "            let TranLang = \"ko\"; // Use let instead of const\n",
    "            const text = document.getElementById(\"text\").value;\n",
    "\n",
    "            const url = 'https://google-translate1.p.rapidapi.com/language/translate/v2';\n",
    "            \n",
    "            // Figuring out the language to translate into\n",
    "            if (BaseLang === \"en\") { // Use === for comparison\n",
    "                TranLang = \"ko\"; // Use = for assignment\n",
    "            } else {\n",
    "                TranLang = \"en\";\n",
    "            }\n",
    "\n",
    "            const options = {\n",
    "                method: 'POST',\n",
    "                headers: {\n",
    "                    'content-type': 'application/x-www-form-urlencoded',\n",
    "\t\t            'Accept-Encoding': 'application/gzip',\n",
    "\t\t            'X-RapidAPI-Key': '8222bd61f1mshad1ad1dfca1b2bcp1aa093jsnd4c03fb4a7ae',\n",
    "\t\t            'X-RapidAPI-Host': 'google-translate1.p.rapidapi.com'\n",
    "                },\n",
    "                body: new URLSearchParams({\n",
    "                    q: text,\n",
    "                    target: TranLang,\n",
    "                    source: BaseLang\n",
    "                }).toString()\n",
    "            };\n",
    "\n",
    "            try {\n",
    "                const response = await fetch(url, options);\n",
    "                const result = await response.json();\n",
    "                console.log(result);\n",
    "                resultHTML.innerHTML = result.data.translations[0].translatedText;\n",
    "            } catch (error) {\n",
    "                console.error(error);\n",
    "                resultHTML.innerHTML = \"An error occurred\";\n",
    "            }\n",
    "        }\n",
    "    </script>\n",
    "</body>"
   ]
  }
 ],
 "metadata": {
  "kernelspec": {
   "display_name": "base",
   "language": "python",
   "name": "python3"
  },
  "language_info": {
   "codemirror_mode": {
    "name": "ipython",
    "version": 3
   },
   "file_extension": ".py",
   "mimetype": "text/x-python",
   "name": "python",
   "nbconvert_exporter": "python",
   "pygments_lexer": "ipython3",
   "version": "3.9.12"
  },
  "orig_nbformat": 4
 },
 "nbformat": 4,
 "nbformat_minor": 2
}
