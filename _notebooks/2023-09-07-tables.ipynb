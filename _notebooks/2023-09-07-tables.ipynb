{
 "cells": [
  {
   "cell_type": "markdown",
   "metadata": {},
   "source": [
    "---\n",
    "layout: default\n",
    "title: Javascript Output hacks\n",
    "description: yur\n",
    "toc: true\n",
    "type: hacks\n",
    "courses: { csa: {week: 2} }\n",
    "---"
   ]
  },
  {
   "cell_type": "markdown",
   "metadata": {},
   "source": [
    "## Random Joke Getter into auto genreated table"
   ]
  },
  {
   "cell_type": "markdown",
   "metadata": {},
   "source": [
    "<div class=\"index-header\">\n",
    "    <table class=\"table\">\n",
    "        <thead>\n",
    "            <tr>\n",
    "                <th scope=\"col\">#</th>\n",
    "                <th scope=\"col\">Joke</th>\n",
    "            </tr>\n",
    "        </thead>\n",
    "        <tbody id=\"result\">\n",
    "            <!-- Auto generated from the list of jokes -->\n",
    "        </tbody>\n",
    "    </table>\n",
    "</div>\n",
    "<script src=\"https://code.jquery.com/jquery-3.6.0.min.js\"></script>\n",
    "<script src=\"https://cdnjs.cloudflare.com/ajax/libs/lodash.js/4.17.21/lodash.min.js\"></script>\n",
    "\n",
    "<script>\n",
    "    // Define an array of jokes\n",
    "    const jokes = [\n",
    "    \"Why don't scientists trust atoms? Because they make up everything!\",\n",
    "    \"What did one wall say to the other wall? I'll meet you at the corner!\",\n",
    "    \"Why did the bicycle fall over? Because it was two-tired!\",\n",
    "    \"I used to play piano by ear, but now I use my hands.\",\n",
    "    \"How do you organize a space party? You planet!\",\n",
    "    \"What did the janitor say when he jumped out of the closet? Supplies!\",\n",
    "    \"I'm reading a book on anti-gravity. It's impossible to put down!\",\n",
    "    \"Why did the math book look sad? Because it had too many problems.\",\n",
    "    \"Why don't oysters donate to charity? Because they are shellfish!\",\n",
    "    \"How do you make a tissue dance? You put a little boogie in it!\",\n",
    "];\n",
    "\n",
    "    // Get the table body element\n",
    "    function addJokes() {\n",
    "        const tbody = document.getElementById('result');\n",
    "\n",
    "        // Shuffle the jokes array using Lodash\n",
    "        const shuffledJokes = _.shuffle(jokes);\n",
    "\n",
    "        // Loop through the table rows and add a joke to each row\n",
    "        for (let i = 1; i <= 3; i++) {\n",
    "            // Get the i-th joke from the shuffled array\n",
    "            const joke = shuffledJokes[i - 1];\n",
    "\n",
    "            // Create a new table row and cell elements\n",
    "            const tr = document.createElement('tr');\n",
    "            const tdNumber = document.createElement('td');\n",
    "            const tdJoke = document.createElement('td');\n",
    "\n",
    "            // Set the text content of the row and cell elements\n",
    "            tdNumber.textContent = i;\n",
    "            tdJoke.textContent = joke;\n",
    "\n",
    "            // Append the cell elements to the row element\n",
    "            tr.appendChild(tdNumber);\n",
    "            tr.appendChild(tdJoke);\n",
    "\n",
    "            // Append the row element to the table body element\n",
    "            tbody.appendChild(tr);\n",
    "        }\n",
    "    }\n",
    "    addJokes();\n",
    "</script>\n"
   ]
  },
  {
   "cell_type": "markdown",
   "metadata": {},
   "source": [
    "## Javascript code"
   ]
  },
  {
   "cell_type": "code",
   "execution_count": null,
   "metadata": {
    "vscode": {
     "languageId": "javascript"
    }
   },
   "outputs": [],
   "source": [
    "// Define an array of jokes\n",
    "const jokes = [\n",
    "    \"Why don't scientists trust atoms? Because they make up everything!\",\n",
    "    \"What did one wall say to the other wall? I'll meet you at the corner!\",\n",
    "    \"Why did the bicycle fall over? Because it was two-tired!\",\n",
    "    \"I used to play piano by ear, but now I use my hands.\",\n",
    "    \"How do you organize a space party? You planet!\",\n",
    "    \"What did the janitor say when he jumped out of the closet? Supplies!\",\n",
    "    \"I'm reading a book on anti-gravity. It's impossible to put down!\",\n",
    "    \"Why did the math book look sad? Because it had too many problems.\",\n",
    "    \"Why don't oysters donate to charity? Because they are shellfish!\",\n",
    "    \"How do you make a tissue dance? You put a little boogie in it!\",\n",
    "];\n",
    "\n",
    "    // Get the table body element\n",
    "    function addJokes() {\n",
    "        const tbody = document.getElementById('result');\n",
    "\n",
    "        // Shuffle the jokes array using Lodash\n",
    "        const shuffledJokes = _.shuffle(jokes);\n",
    "\n",
    "        // Loop through the table rows and add a joke to each row\n",
    "        for (let i = 1; i <= 3; i++) {\n",
    "            // Get the i-th joke from the shuffled array\n",
    "            const joke = shuffledJokes[i - 1];\n",
    "\n",
    "            // Create a new table row and cell elements\n",
    "            const tr = document.createElement('tr');\n",
    "            const tdNumber = document.createElement('td');\n",
    "            const tdJoke = document.createElement('td');\n",
    "\n",
    "            // Set the text content of the row and cell elements\n",
    "            tdNumber.textContent = i;\n",
    "            tdJoke.textContent = joke;\n",
    "\n",
    "            // Append the cell elements to the row element\n",
    "            tr.appendChild(tdNumber);\n",
    "            tr.appendChild(tdJoke);\n",
    "\n",
    "            // Append the row element to the table body element\n",
    "            tbody.appendChild(tr);\n",
    "        }\n",
    "    }\n",
    "    addJokes();"
   ]
  }
 ],
 "metadata": {
  "kernelspec": {
   "display_name": "base",
   "language": "python",
   "name": "python3"
  },
  "language_info": {
   "codemirror_mode": {
    "name": "ipython",
    "version": 3
   },
   "file_extension": ".py",
   "mimetype": "text/x-python",
   "name": "python",
   "nbconvert_exporter": "python",
   "pygments_lexer": "ipython3",
   "version": "3.9.12"
  },
  "orig_nbformat": 4
 },
 "nbformat": 4,
 "nbformat_minor": 2
}
