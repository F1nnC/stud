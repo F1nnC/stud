{
 "cells": [
  {
   "cell_type": "markdown",
   "metadata": {},
   "source": [
    "---\n",
    "layout: posts\n",
    "title: MCQ Corrections\n",
    "description: corrections for my mcq\n",
    "courses: { csa: {week: 12} }\n",
    "type: hacks\n",
    "permalink: /mcq1\n",
    "---"
   ]
  },
  {
   "cell_type": "markdown",
   "metadata": {},
   "source": [
    "## Score\n",
    "![score]({{site.baseurl}}/images/score.png)\n",
    "\n",
    "## Corrections\n",
    "\n",
    "### Q18\n",
    "- **Question:** Assume that myList is an ArrayList that has been correctly constructed and populated with objects. Which of the following expressions produces a valid random index for myList?\n",
    "- **My Answer:** (int) ( Math.random () * myList.size () ) + 1\n",
    "- **Correct Answer:** (int) ( Math.random () * myList.size () )\n",
    "- **Why I got the Answer wrong:** myList are 0 through myList.size() – 1, for a total of myList.size() elements. Using this statement will result in a range between 1 and myList.size().\n",
    "\n",
    "### Q28\n",
    "- **Question:** Which of the following is true of method mystery ?\n",
    "- **My Answer:** n will sometimes be greater than 2 at // Point C.\n",
    "- **Correct Answer:** n will always be greater than 2 at // Point B.\n",
    "- **Why I got the Answer wrong:** Im not really sure why i got this wrong, i think i misread the answer\n",
    "\n",
    "### Q34\n",
    "- **Question:** Which of the following replacements for /* missing code */ will correctly implement the Circle\n",
    "constructor?\n",
    "- **My Answer:** 2 and 3\n",
    "- **Correct Answer:** 2\n",
    "- **Why I got the Answer wrong:** I think I traced three wrong, I knew two was right but I just thought 3 was as well\n",
    "\n",
    "\n"
   ]
  }
 ],
 "metadata": {
  "kernelspec": {
   "display_name": "Java",
   "language": "java",
   "name": "java"
  },
  "language_info": {
   "name": "java"
  }
 },
 "nbformat": 4,
 "nbformat_minor": 2
}
