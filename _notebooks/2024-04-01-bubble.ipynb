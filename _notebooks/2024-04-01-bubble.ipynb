{
 "cells": [
  {
   "cell_type": "markdown",
   "metadata": {},
   "source": [
    "---\n",
    "title: Algorithmic\n",
    "description: bubble sort and my part in it\n",
    "toc: true\n",
    "layout: posts\n",
    "type: hacks\n",
    "comments: true\n",
    "permalink: bubble\n",
    "---"
   ]
  },
  {
   "cell_type": "markdown",
   "metadata": {},
   "source": [
    "## Explanation of bubble sort\n",
    "- the term selected will check if the term ahead is larger\n",
    "- if it is, than it swaps, if it isn't, than it stays\n",
    "\n",
    "## Code behind it"
   ]
  },
  {
   "cell_type": "code",
   "execution_count": 2,
   "metadata": {},
   "outputs": [
    {
     "name": "stdout",
     "output_type": "stream",
     "text": [
      "Bubble sort took: 38 milliseconds\n"
     ]
    }
   ],
   "source": [
    "import java.util.ArrayList;\n",
    "\n",
    "public class Timing {\n",
    "    ArrayList<Integer> array = new ArrayList<>();\n",
    "    //Create a method that adds random number to an array, it takes a parameter for how many random terms to create\n",
    "    public void addRandom(int n){\n",
    "        for(int i = 0; i < n; i++){\n",
    "            array.add((int)(Math.random()*100));\n",
    "        }\n",
    "    }\n",
    "\n",
    "    //Bubble sort algorithm with a timer\n",
    "    public void bubbleSort(){\n",
    "        long startTime = System.currentTimeMillis();\n",
    "        for(int i = 0; i < array.size(); i++){\n",
    "            for(int j = 0; j < array.size()-1; j++){\n",
    "                if(array.get(j) > array.get(j+1)){\n",
    "                    int temp = array.get(j);\n",
    "                    array.set(j, array.get(j+1));\n",
    "                    array.set(j+1, temp);\n",
    "                }\n",
    "            }\n",
    "        }\n",
    "        long endTime = System.currentTimeMillis();\n",
    "        System.out.println(\"Bubble sort took: \" + (endTime - startTime) + \" milliseconds\");\n",
    "    }\n",
    "\n",
    "    public static void main(String[] args) {\n",
    "        Timing t = new Timing();\n",
    "        t.addRandom(1000);\n",
    "\n",
    "        t.bubbleSort();\n",
    "\n",
    "    }\n",
    "}\n",
    "\n",
    "Timing.main(null);\n"
   ]
  },
  {
   "cell_type": "markdown",
   "metadata": {},
   "source": [
    "## My role\n",
    "- Our sorting is based on a dating show, so I'm one of the bachelors\n",
    "- I say my pickup line\n",
    "- Then I sort with the people around me\n",
    "\n",
    "![img](https://i.stack.imgur.com/XNbE0.gif)"
   ]
  }
 ],
 "metadata": {
  "kernelspec": {
   "display_name": "Java",
   "language": "java",
   "name": "java"
  },
  "language_info": {
   "codemirror_mode": "java",
   "file_extension": ".jshell",
   "mimetype": "text/x-java-source",
   "name": "java",
   "pygments_lexer": "java",
   "version": "20.0.2+9"
  }
 },
 "nbformat": 4,
 "nbformat_minor": 2
}
