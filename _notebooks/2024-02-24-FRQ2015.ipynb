{
 "cells": [
  {
   "cell_type": "markdown",
   "metadata": {},
   "source": [
    "---\n",
    "toc: true\n",
    "comments: true\n",
    "layout: posts\n",
    "title: Practice 2015 FRQ Notes\n",
    "description: Reflection and Solutions of the FRQ\n",
    "type: hacks\n",
    "courses: { csa: {week: 23} }\n",
    "permalink: /FRQs\n",
    "---"
   ]
  },
  {
   "cell_type": "markdown",
   "metadata": {},
   "source": [
    "## Question 1\n",
    "### Part A"
   ]
  },
  {
   "cell_type": "code",
   "execution_count": 1,
   "metadata": {
    "vscode": {
     "languageId": "java"
    }
   },
   "outputs": [],
   "source": [
    "public static int arraySum(int[] arr) {\n",
    "    int total = 0;  // initialize total to 0\n",
    "\n",
    "    for(int num : arr) // loop through each number in the array\n",
    "        total += num; // add the number to the total\n",
    "    return total; // return the total\n",
    "}"
   ]
  },
  {
   "cell_type": "code",
   "execution_count": 2,
   "metadata": {
    "vscode": {
     "languageId": "java"
    }
   },
   "outputs": [
    {
     "name": "stdout",
     "output_type": "stream",
     "text": [
      "15\n"
     ]
    }
   ],
   "source": [
    "// Proof it works\n",
    "\n",
    "int[] arr = {1, 2, 3, 4, 5};\n",
    "System.out.println(arraySum(arr));"
   ]
  },
  {
   "cell_type": "markdown",
   "metadata": {},
   "source": [
    "### Part B"
   ]
  },
  {
   "cell_type": "code",
   "execution_count": 3,
   "metadata": {
    "vscode": {
     "languageId": "java"
    }
   },
   "outputs": [],
   "source": [
    "public static int[] rowSums(int[][] arr2D) {\n",
    "    int[] sums = new int[arr2D.length]; // create an array to store row sums\n",
    "    \n",
    "    for (int i = 0; i < arr2D.length; i++) { // iterate through each row\n",
    "        int rowSum = 0; \n",
    "        \n",
    "        for (int j = 0; j < arr2D[i].length; j++) { // iterate through each element in the row\n",
    "            rowSum += arr2D[i][j]; // add the element to the row sum\n",
    "        }\n",
    "        \n",
    "        sums[i] = rowSum; // store the sum of the current row in the sums array\n",
    "    }\n",
    "    \n",
    "    return sums; // return the array of row sums\n",
    "}"
   ]
  },
  {
   "cell_type": "code",
   "execution_count": 5,
   "metadata": {
    "vscode": {
     "languageId": "java"
    }
   },
   "outputs": [
    {
     "name": "stdout",
     "output_type": "stream",
     "text": [
      "[6, 15, 24]\n"
     ]
    }
   ],
   "source": [
    "// Proof it works\n",
    "\n",
    "int[][] arr2D = {\n",
    "    {1, 2, 3}, \n",
    "    {4, 5, 6}, \n",
    "    {7, 8, 9}\n",
    "};\n",
    "int[] sums = rowSums(arr2D);\n",
    "System.out.println(Arrays.toString(sums)); "
   ]
  },
  {
   "cell_type": "markdown",
   "metadata": {},
   "source": [
    "### Part C"
   ]
  },
  {
   "cell_type": "code",
   "execution_count": 9,
   "metadata": {
    "vscode": {
     "languageId": "java"
    }
   },
   "outputs": [],
   "source": [
    "public static boolean isDiverse(int [ ] [ ] arr2D) {\n",
    "    int[] sums = rowSums(arr2D); // get the row sums\n",
    "    \n",
    "    for (int i = 0; i < sums.length; i++) { // iterate through each row sum\n",
    "        for (int j = i + 1; j < sums.length; j++) { // iterate through each subsequent row sum\n",
    "            if (sums[i] == sums[j]) { // if any two row sums are equal\n",
    "                return false; // the array is not diverse\n",
    "            }\n",
    "        }\n",
    "    }\n",
    "    \n",
    "    return true; // if no two row sums are equal, the array is diverse\n",
    "}"
   ]
  },
  {
   "cell_type": "code",
   "execution_count": 11,
   "metadata": {
    "vscode": {
     "languageId": "java"
    }
   },
   "outputs": [
    {
     "name": "stdout",
     "output_type": "stream",
     "text": [
      "true\n",
      "false\n"
     ]
    }
   ],
   "source": [
    "// Proof it works\n",
    "\n",
    "int[][] arr2D = {\n",
    "    {1, 2, 3}, \n",
    "    {4, 5, 6}, \n",
    "    {7, 8, 9}\n",
    "};\n",
    "System.out.println(isDiverse(arr2D)); \n",
    "\n",
    "int[][] arr2D2 = {\n",
    "    {1, 2, 3}, \n",
    "    {3, 2, 1}, \n",
    "    {7, 8, 9}\n",
    "};\n",
    "System.out.println(isDiverse(arr2D2)); \n"
   ]
  },
  {
   "cell_type": "markdown",
   "metadata": {},
   "source": [
    "### Reflection\n",
    "- This FRQ was not that hard because I've had previous experience with questions like these. Part A was simple, literally had to do that exact piece of code last week. I know my solution for B and C was going to be two for loops with one being nested inside the other to check all the elements. Although solutions with nested for loops are not scalable because of it's O(n^2) complexity, but I think college board would give me full credit because there isn't really another way.\n",
    "\n",
    "## Question 2"
   ]
  },
  {
   "cell_type": "code",
   "execution_count": 21,
   "metadata": {
    "vscode": {
     "languageId": "java"
    }
   },
   "outputs": [
    {
     "name": "stdout",
     "output_type": "stream",
     "text": [
      "{ **+* }\n",
      "{ F*** }\n"
     ]
    }
   ],
   "source": [
    "public class HiddenWord {\n",
    "    private String hidden; // the hidden word to guess\n",
    "\n",
    "    // constructor to initialize the hidden word\n",
    "    public HiddenWord(String h) {\n",
    "        hidden = h;\n",
    "    }\n",
    "\n",
    "    // method to generate a hint based on the guessed word\n",
    "    public String getHint(String guess) {\n",
    "        String hint = \"{ \"; // start building the hint string\n",
    "\n",
    "        for (int i = 0; i < guess.length(); i++) {\n",
    "            if (guess.charAt(i) == hidden.charAt(i))\n",
    "                hint += \"\" + guess.charAt(i); // append the correct character at the right position\n",
    "            else if (hidden.indexOf(guess.charAt(i)) > -1)\n",
    "                hint += \"+\"; // append a '+' if the guessed character exists in the hidden word but at a different position\n",
    "            else\n",
    "                hint += \"*\"; // append a '*' if the guessed character doesn't exist in the hidden word\n",
    "        }\n",
    "\n",
    "        hint += \" }\"; // close the hint string\n",
    "        return hint; // return the generated hint\n",
    "    }\n",
    "\n",
    "    //Proof it works\n",
    "    public static void main(String[] args) {\n",
    "        HiddenWord word = new HiddenWord(\"Finn\"); \n",
    "        System.out.println(word.getHint(\"swim\")); \n",
    "        System.out.println(word.getHint(\"Fred\")); \n",
    "    }\n",
    "}\n"
   ]
  },
  {
   "cell_type": "markdown",
   "metadata": {},
   "source": [
    "### Reflection\n",
    "- This FRQ was very challenging, I didn't know about the charAt() function. Although the logic was simple enough. I think they got the idea from wordle. My main take away was that I have to learn more about the built in functions inside java.\n",
    "\n",
    "## Question 3\n",
    "\n",
    "### Part A"
   ]
  },
  {
   "cell_type": "code",
   "execution_count": 23,
   "metadata": {
    "vscode": {
     "languageId": "java"
    }
   },
   "outputs": [
    {
     "name": "stdout",
     "output_type": "stream",
     "text": [
      "Should print 3:\n",
      "3\n",
      "Should print 5:\n",
      "5\n",
      "Should print 0:\n",
      "0\n"
     ]
    }
   ],
   "source": [
    "import java.util.ArrayList;\n",
    "import java.util.List;\n",
    "\n",
    "// Class to represent an entry in the sparse array\n",
    "class SparseArrayEntry {\n",
    "    private int row;\n",
    "    private int col;\n",
    "    private int value;\n",
    "\n",
    "    public SparseArrayEntry(int row, int col, int value) {\n",
    "        this.row = row;\n",
    "        this.col = col;\n",
    "        this.value = value;\n",
    "    }\n",
    "\n",
    "    public int getRow() {\n",
    "        return row;\n",
    "    }\n",
    "\n",
    "    public int getCol() {\n",
    "        return col;\n",
    "    }\n",
    "\n",
    "    public int getValue() {\n",
    "        return value;\n",
    "    }\n",
    "}\n",
    "\n",
    "// Class to represent the sparse array\n",
    "class SparseArray {\n",
    "    private List<SparseArrayEntry> entries;\n",
    "    private int numRows;\n",
    "    private int numCols;\n",
    "\n",
    "    public SparseArray(int numRows, int numCols) {\n",
    "        this.numRows = numRows;\n",
    "        this.numCols = numCols;\n",
    "        entries = new ArrayList<>();\n",
    "    }\n",
    "\n",
    "    public void addEntry(int row, int col, int value) {\n",
    "        entries.add(new SparseArrayEntry(row, col, value));\n",
    "    }\n",
    "\n",
    "    public int getValueAt(int row, int col) {\n",
    "        for (SparseArrayEntry e : entries) {\n",
    "            if (e.getRow() == row && e.getCol() == col) {\n",
    "                return e.getValue();\n",
    "            }\n",
    "        }\n",
    "        return 0;\n",
    "    }\n",
    "\n",
    "    public int getNumRows() {\n",
    "        return numRows;\n",
    "    }\n",
    "\n",
    "    public int getNumCols() {\n",
    "        return numCols;\n",
    "    }\n",
    "}\n",
    "\n",
    "//Proof it works\n",
    "public class Main {\n",
    "    public static void main(String[] args) {\n",
    "        SparseArray sparseArray = new SparseArray(5, 5); \n",
    "        sparseArray.addEntry(1, 2, 3); \n",
    "        sparseArray.addEntry(3, 4, 5); \n",
    "\n",
    "        System.out.println(\"Should print 3:\");\n",
    "        System.out.println(sparseArray.getValueAt(1, 2)); \n",
    "        System.out.println(\"Should print 5:\");\n",
    "        System.out.println(sparseArray.getValueAt(3, 4)); \n",
    "        System.out.println(\"Should print 0:\");\n",
    "        System.out.println(sparseArray.getValueAt(0, 0)); \n",
    "    }\n",
    "}\n",
    "Main.main(null);"
   ]
  },
  {
   "cell_type": "markdown",
   "metadata": {},
   "source": [
    "### Part B"
   ]
  },
  {
   "cell_type": "code",
   "execution_count": 24,
   "metadata": {
    "vscode": {
     "languageId": "java"
    }
   },
   "outputs": [
    {
     "name": "stdout",
     "output_type": "stream",
     "text": [
      "Original Array\n",
      "Should print 3:\n",
      "3\n",
      "Should print 5:\n",
      "5\n",
      "Should print 7:\n",
      "7\n",
      "\n",
      "Shifted Array\n",
      "Should print 3:\n",
      "3\n",
      "Should print 5:\n",
      "5\n",
      "Should print 7:\n",
      "0\n"
     ]
    }
   ],
   "source": [
    "import java.util.ArrayList;\n",
    "import java.util.List;\n",
    "\n",
    "class SparseArray {\n",
    "    private List<SparseArrayEntry> entries;\n",
    "    private int numRows;\n",
    "    private int numCols;\n",
    "\n",
    "    public SparseArray(int numRows, int numCols) {\n",
    "        this.numRows = numRows;\n",
    "        this.numCols = numCols;\n",
    "        entries = new ArrayList<>();\n",
    "    }\n",
    "\n",
    "    public void addEntry(int row, int col, int value) {\n",
    "        entries.add(new SparseArrayEntry(row, col, value));\n",
    "    }\n",
    "\n",
    "    public int getValueAt(int row, int col) {\n",
    "        for (SparseArrayEntry e : entries) {\n",
    "            if (e.getRow() == row && e.getCol() == col) {\n",
    "                return e.getValue();\n",
    "            }\n",
    "        }\n",
    "        return 0;\n",
    "    }\n",
    "\n",
    "    public void removeColumn(int col) { // new thingy\n",
    "        numCols--;\n",
    "\n",
    "        for (int i = entries.size() - 1; i >= 0; i--) {\n",
    "            if (entries.get(i).getCol() == col) {\n",
    "                entries.remove(i);\n",
    "            }\n",
    "        }\n",
    "\n",
    "        for (int i = 0; i < entries.size(); i++) {\n",
    "            if (entries.get(i).getCol() > col) {\n",
    "                SparseArrayEntry h = entries.get(i);\n",
    "                SparseArrayEntry e = new SparseArrayEntry(h.getRow(), (h.getCol() - 1), h.getValue());\n",
    "                entries.set(i, e);\n",
    "            }\n",
    "        }\n",
    "    }\n",
    "\n",
    "    public int getNumRows() {\n",
    "        return numRows;\n",
    "    }\n",
    "\n",
    "    public int getNumCols() {\n",
    "        return numCols;\n",
    "    }\n",
    "}\n",
    "// Proof it works\n",
    "public class Main {\n",
    "    public static void main(String[] args) {\n",
    "        SparseArray sparseArray = new SparseArray(5, 5);\n",
    "        sparseArray.addEntry(1, 2, 3);\n",
    "        sparseArray.addEntry(3, 4, 5);\n",
    "        sparseArray.addEntry(2, 3, 7);\n",
    "\n",
    "        System.out.println(\"Original Array\");\n",
    "        System.out.println(\"Should print 3:\");\n",
    "        System.out.println(sparseArray.getValueAt(1, 2)); // Should print 3\n",
    "        System.out.println(\"Should print 5:\");\n",
    "        System.out.println(sparseArray.getValueAt(3, 4)); // Should print 5\n",
    "        System.out.println(\"Should print 7:\");\n",
    "        System.out.println(sparseArray.getValueAt(2, 3)); // Should print 7\n",
    "        System.out.println(\"\");\n",
    "\n",
    "        sparseArray.removeColumn(3);\n",
    "\n",
    "        System.out.println(\"Shifted Array\");\n",
    "        System.out.println(\"Should print 3:\");\n",
    "        System.out.println(sparseArray.getValueAt(1, 2)); // Should print 3\n",
    "        System.out.println(\"Should print 5:\");\n",
    "        System.out.println(sparseArray.getValueAt(3, 3)); // Should print 5 (shifted from column 4 to 3)\n",
    "        System.out.println(\"Should print 7:\");\n",
    "        System.out.println(sparseArray.getValueAt(2, 2)); // Should print 7 (shifted from column 3 to 2)\n",
    "    }\n",
    "}\n",
    "Main.main(null);\n"
   ]
  },
  {
   "cell_type": "markdown",
   "metadata": {},
   "source": [
    "### Reflection\n",
    "- This FRQ took me the longest by far, I had to get help from my team mate Rachit to wrap my head around this problem. I think I got overwhelmed by how much stuff there was. So much to copy from college board, and since it's an image you have to keep switching between tabs. Even the solutions were longer than the other FRQs. Although now it's not as hard to understand, definitely need to learn more about 2d arrays than I thought.\n",
    "\n",
    "## Question 4\n",
    "### Part A and B"
   ]
  },
  {
   "cell_type": "code",
   "execution_count": 41,
   "metadata": {
    "vscode": {
     "languageId": "java"
    }
   },
   "outputs": [
    {
     "name": "stdout",
     "output_type": "stream",
     "text": [
      "false\n",
      "true\n",
      "false\n"
     ]
    }
   ],
   "source": [
    "public interface NumberGroup \n",
    "{\n",
    "    public boolean contains(int num);\n",
    "}\n",
    "\n",
    "// Range functionality I got from rachit\n",
    "public class Range implements NumberGroup {\n",
    "    private int min;\n",
    "    private int max;\n",
    "\n",
    "    public Range(int min, int max) {\n",
    "        this.min = min;\n",
    "        this.max = max;\n",
    "    }\n",
    "\n",
    "    @Override\n",
    "    public boolean contains(int num) {\n",
    "        if (num >= min && num <= max) {\n",
    "            return true;\n",
    "        } else {\n",
    "            return false;\n",
    "        }\n",
    "    }\n",
    "}\n",
    "//Proof it works\n",
    "public class Main {\n",
    "    public static void main(String[] args) {\n",
    "        NumberGroup range = new Range(5, 10);\n",
    "\n",
    "        System.out.println(range.contains(2));\n",
    "        System.out.println(range.contains(7));\n",
    "        System.out.println(range.contains(4));\n",
    "        \n",
    "    }\n",
    "}\n",
    "Main.main(null);"
   ]
  },
  {
   "cell_type": "markdown",
   "metadata": {},
   "source": [
    "### Part C"
   ]
  },
  {
   "cell_type": "code",
   "execution_count": 43,
   "metadata": {
    "vscode": {
     "languageId": "java"
    }
   },
   "outputs": [
    {
     "name": "stdout",
     "output_type": "stream",
     "text": [
      "false\n",
      "true\n",
      "false\n",
      "true\n"
     ]
    }
   ],
   "source": [
    "// Proof it works\n",
    "public class groups {\n",
    "   public static void main(String[] args) {\n",
    "      Range range1 = new Range(5, 8);\n",
    "      Range range2 = new Range(10, 12);\n",
    "      Range range3 = new Range(1, 6);\n",
    "\n",
    "      System.out.println(range1.contains(3));  \n",
    "      System.out.println(range2.contains(12));  \n",
    "      System.out.println(range3.contains(7)); \n",
    "      System.out.println(range1.contains(7)); \n",
    "\n",
    "   }\n",
    "}\n",
    "groups.main(null);"
   ]
  },
  {
   "cell_type": "markdown",
   "metadata": {},
   "source": [
    "## Reflection\n",
    "- I had Rachit help me with the Number Group Interfacing but the rest of the code can from me. I know my code doesn't create a list with all the numbers in it. But that isn't really needed in this code, It just need to have a list and see if a number is inside it. So by just comparing the number two the range values you will know. You don't have to iterate through the list to see if the number is inside it. This one was hard to re-create in jupyter notebooks, although the solution part was not hard."
   ]
  }
 ],
 "metadata": {
  "kernelspec": {
   "display_name": "Java",
   "language": "java",
   "name": "java"
  },
  "language_info": {
   "codemirror_mode": "java",
   "file_extension": ".jshell",
   "mimetype": "text/x-java-source",
   "name": "Java",
   "pygments_lexer": "java",
   "version": "20.0.2+9"
  }
 },
 "nbformat": 4,
 "nbformat_minor": 2
}
