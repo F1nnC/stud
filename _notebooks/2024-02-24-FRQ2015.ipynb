{
 "cells": [
  {
   "cell_type": "markdown",
   "metadata": {},
   "source": [
    "---\n",
    "toc: true\n",
    "comments: true\n",
    "layout: posts\n",
    "title: Practice 2015 FRQ Question 1\n",
    "description: Reflection and Solutions of the FRQ\n",
    "type: AP\n",
    "courses: { csa: {week: 23} }\n",
    "permalink: /FRQs\n",
    "---"
   ]
  },
  {
   "cell_type": "markdown",
   "metadata": {},
   "source": [
    "## Question 1\n",
    "### Part A"
   ]
  },
  {
   "cell_type": "code",
   "execution_count": 1,
   "metadata": {},
   "outputs": [],
   "source": [
    "public static int arraySum(int[] arr) {\n",
    "    int total = 0;  // initialize total to 0\n",
    "\n",
    "    for(int num : arr) // loop through each number in the array\n",
    "        total += num; // add the number to the total\n",
    "    return total; // return the total\n",
    "}"
   ]
  },
  {
   "cell_type": "code",
   "execution_count": 2,
   "metadata": {},
   "outputs": [
    {
     "name": "stdout",
     "output_type": "stream",
     "text": [
      "15\n"
     ]
    }
   ],
   "source": [
    "// Proof it works\n",
    "\n",
    "int[] arr = {1, 2, 3, 4, 5};\n",
    "System.out.println(arraySum(arr));"
   ]
  },
  {
   "cell_type": "markdown",
   "metadata": {},
   "source": [
    "### Part B"
   ]
  },
  {
   "cell_type": "code",
   "execution_count": 3,
   "metadata": {},
   "outputs": [],
   "source": [
    "public static int[] rowSums(int[][] arr2D) {\n",
    "    int[] sums = new int[arr2D.length]; // create an array to store row sums\n",
    "    \n",
    "    for (int i = 0; i < arr2D.length; i++) { // iterate through each row\n",
    "        int rowSum = 0; \n",
    "        \n",
    "        for (int j = 0; j < arr2D[i].length; j++) { // iterate through each element in the row\n",
    "            rowSum += arr2D[i][j]; // add the element to the row sum\n",
    "        }\n",
    "        \n",
    "        sums[i] = rowSum; // store the sum of the current row in the sums array\n",
    "    }\n",
    "    \n",
    "    return sums; // return the array of row sums\n",
    "}"
   ]
  },
  {
   "cell_type": "code",
   "execution_count": 5,
   "metadata": {},
   "outputs": [
    {
     "name": "stdout",
     "output_type": "stream",
     "text": [
      "[6, 15, 24]\n"
     ]
    }
   ],
   "source": [
    "// Proof it works\n",
    "\n",
    "int[][] arr2D = {\n",
    "    {1, 2, 3}, \n",
    "    {4, 5, 6}, \n",
    "    {7, 8, 9}\n",
    "};\n",
    "int[] sums = rowSums(arr2D);\n",
    "System.out.println(Arrays.toString(sums)); "
   ]
  },
  {
   "cell_type": "markdown",
   "metadata": {},
   "source": [
    "### Part C"
   ]
  },
  {
   "cell_type": "code",
   "execution_count": 9,
   "metadata": {},
   "outputs": [],
   "source": [
    "public static boolean isDiverse(int [ ] [ ] arr2D) {\n",
    "    int[] sums = rowSums(arr2D); // get the row sums\n",
    "    \n",
    "    for (int i = 0; i < sums.length; i++) { // iterate through each row sum\n",
    "        for (int j = i + 1; j < sums.length; j++) { // iterate through each subsequent row sum\n",
    "            if (sums[i] == sums[j]) { // if any two row sums are equal\n",
    "                return false; // the array is not diverse\n",
    "            }\n",
    "        }\n",
    "    }\n",
    "    \n",
    "    return true; // if no two row sums are equal, the array is diverse\n",
    "}"
   ]
  },
  {
   "cell_type": "code",
   "execution_count": 11,
   "metadata": {},
   "outputs": [
    {
     "name": "stdout",
     "output_type": "stream",
     "text": [
      "true\n",
      "false\n"
     ]
    }
   ],
   "source": [
    "// Proof it works\n",
    "\n",
    "int[][] arr2D = {\n",
    "    {1, 2, 3}, \n",
    "    {4, 5, 6}, \n",
    "    {7, 8, 9}\n",
    "};\n",
    "System.out.println(isDiverse(arr2D)); \n",
    "\n",
    "int[][] arr2D2 = {\n",
    "    {1, 2, 3}, \n",
    "    {3, 2, 1}, \n",
    "    {7, 8, 9}\n",
    "};\n",
    "System.out.println(isDiverse(arr2D2)); \n"
   ]
  },
  {
   "cell_type": "markdown",
   "metadata": {},
   "source": [
    "### Reflection\n",
    "- This FRQ was not that hard because I've had previous experience with questions like these. Part A was simple, literally had to do that exact piece of code last week. I know my solution for B and C was going to be two for loops with one being nested inside the other to check all the elements. Although solutions with nested for loops are not scalable because of it's O(n^2) complexity, but I think college board would give me full credit because there isn't really another way."
   ]
  }
 ],
 "metadata": {
  "kernelspec": {
   "display_name": "Java",
   "language": "java",
   "name": "java"
  },
  "language_info": {
   "codemirror_mode": "java",
   "file_extension": ".jshell",
   "mimetype": "text/x-java-source",
   "name": "java",
   "pygments_lexer": "java",
   "version": "20.0.2+9"
  }
 },
 "nbformat": 4,
 "nbformat_minor": 2
}
